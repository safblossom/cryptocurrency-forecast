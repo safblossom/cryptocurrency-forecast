{
 "cells": [
  {
   "cell_type": "markdown",
   "id": "bfedc0ea",
   "metadata": {},
   "source": [
    "## 📈 Bitcoin Price Forecasting using LSTM\n",
    "\n",
    "This notebook presents a deep learning approach to forecast the BTC/USD exchange rate using a Long Short-Term Memory (LSTM) network. \n",
    "\n",
    "We follow these main steps:\n",
    "- Load and preprocess historical Bitcoin prices\n",
    "- Normalize the time series\n",
    "- Prepare the data for supervised learning\n",
    "- Train an LSTM model\n",
    "- Evaluate and visualize the predictions\n",
    "\n",
    "The dataset spans from February 2012 to December 2024 and was collected from Investing.com."
   ]
  },
  {
   "cell_type": "code",
   "execution_count": 27,
   "id": "1146baae",
   "metadata": {},
   "outputs": [],
   "source": [
    "import pandas as pd\n",
    "import numpy as np\n",
    "import matplotlib.pyplot as plt\n",
    "\n",
    "from sklearn.preprocessing import MinMaxScaler\n",
    "from sklearn.metrics import mean_absolute_error, mean_squared_error\n",
    "\n",
    "from tensorflow.keras.models import Sequential\n",
    "from tensorflow.keras.layers import LSTM, Dense, Dropout\n",
    "from tensorflow.keras.callbacks import EarlyStopping\n",
    "from tensorflow.keras.optimizers import Adam\n",
    "\n",
    "# Warnings\n",
    "import warnings\n",
    "warnings.filterwarnings('ignore')"
   ]
  },
  {
   "cell_type": "markdown",
   "id": "875d11f8",
   "metadata": {},
   "source": [
    "## 📥 Step 1: Load and Prepare the Dataset\n",
    "\n",
    "We load the BTC/USD historical data, clean and format it, and set the `Date` column as the index for time series analysis            ."
   ]
  },
  {
   "cell_type": "code",
   "execution_count": 28,
   "id": "16221045",
   "metadata": {},
   "outputs": [
    {
     "data": {
      "text/html": [
       "<div>\n",
       "<style scoped>\n",
       "    .dataframe tbody tr th:only-of-type {\n",
       "        vertical-align: middle;\n",
       "    }\n",
       "\n",
       "    .dataframe tbody tr th {\n",
       "        vertical-align: top;\n",
       "    }\n",
       "\n",
       "    .dataframe thead th {\n",
       "        text-align: right;\n",
       "    }\n",
       "</style>\n",
       "<table border=\"1\" class=\"dataframe\">\n",
       "  <thead>\n",
       "    <tr style=\"text-align: right;\">\n",
       "      <th></th>\n",
       "      <th>BTC-USD</th>\n",
       "    </tr>\n",
       "    <tr>\n",
       "      <th>Date</th>\n",
       "      <th></th>\n",
       "    </tr>\n",
       "  </thead>\n",
       "  <tbody>\n",
       "    <tr>\n",
       "      <th>2012-02-02</th>\n",
       "      <td>6.1</td>\n",
       "    </tr>\n",
       "    <tr>\n",
       "      <th>2012-02-03</th>\n",
       "      <td>6.0</td>\n",
       "    </tr>\n",
       "    <tr>\n",
       "      <th>2012-02-04</th>\n",
       "      <td>5.9</td>\n",
       "    </tr>\n",
       "    <tr>\n",
       "      <th>2012-02-05</th>\n",
       "      <td>5.7</td>\n",
       "    </tr>\n",
       "    <tr>\n",
       "      <th>2012-02-06</th>\n",
       "      <td>5.4</td>\n",
       "    </tr>\n",
       "    <tr>\n",
       "      <th>...</th>\n",
       "      <td>...</td>\n",
       "    </tr>\n",
       "    <tr>\n",
       "      <th>2024-12-27</th>\n",
       "      <td>94419.0</td>\n",
       "    </tr>\n",
       "    <tr>\n",
       "      <th>2024-12-28</th>\n",
       "      <td>95533.0</td>\n",
       "    </tr>\n",
       "    <tr>\n",
       "      <th>2024-12-29</th>\n",
       "      <td>93944.0</td>\n",
       "    </tr>\n",
       "    <tr>\n",
       "      <th>2024-12-30</th>\n",
       "      <td>92982.0</td>\n",
       "    </tr>\n",
       "    <tr>\n",
       "      <th>2024-12-31</th>\n",
       "      <td>93780.0</td>\n",
       "    </tr>\n",
       "  </tbody>\n",
       "</table>\n",
       "<p>4713 rows × 1 columns</p>\n",
       "</div>"
      ],
      "text/plain": [
       "            BTC-USD\n",
       "Date               \n",
       "2012-02-02      6.1\n",
       "2012-02-03      6.0\n",
       "2012-02-04      5.9\n",
       "2012-02-05      5.7\n",
       "2012-02-06      5.4\n",
       "...             ...\n",
       "2024-12-27  94419.0\n",
       "2024-12-28  95533.0\n",
       "2024-12-29  93944.0\n",
       "2024-12-30  92982.0\n",
       "2024-12-31  93780.0\n",
       "\n",
       "[4713 rows x 1 columns]"
      ]
     },
     "execution_count": 28,
     "metadata": {},
     "output_type": "execute_result"
    }
   ],
   "source": [
    "data_btc_usd = pd.read_csv('../data/BTC_USD.csv')\n",
    "data_btc_usd[\"Date\"] = pd.to_datetime(data_btc_usd[\"Date\"], errors=\"coerce\")\n",
    "data_btc_usd = data_btc_usd.sort_values(\"Date\")\n",
    "data_btc_usd.rename(columns={\"Price\": \"BTC-USD\"}, inplace=True)\n",
    "data_btc_usd[\"BTC-USD\"] = data_btc_usd[\"BTC-USD\"].replace({r'\\,':''}, regex=True).astype(float)\n",
    "data_btc_usd.to_csv(\"../data/BTC-USD.csv\", index=False)\n",
    "data_btc_usd.set_index('Date', inplace=True)\n",
    "data_btc_usd"
   ]
  },
  {
   "cell_type": "markdown",
   "id": "77a3fd37",
   "metadata": {},
   "source": [
    "## 🔍 Step 2: Explore the Dataset\n",
    "\n",
    "Let's check the structure and summary statistics to understand the data better."
   ]
  },
  {
   "cell_type": "code",
   "execution_count": 29,
   "id": "5acf9832",
   "metadata": {},
   "outputs": [
    {
     "name": "stdout",
     "output_type": "stream",
     "text": [
      "<class 'pandas.core.frame.DataFrame'>\n",
      "DatetimeIndex: 4713 entries, 2012-02-02 to 2024-12-31\n",
      "Data columns (total 1 columns):\n",
      " #   Column   Non-Null Count  Dtype  \n",
      "---  ------   --------------  -----  \n",
      " 0   BTC-USD  4713 non-null   float64\n",
      "dtypes: float64(1)\n",
      "memory usage: 73.6 KB\n"
     ]
    },
    {
     "data": {
      "text/html": [
       "<div>\n",
       "<style scoped>\n",
       "    .dataframe tbody tr th:only-of-type {\n",
       "        vertical-align: middle;\n",
       "    }\n",
       "\n",
       "    .dataframe tbody tr th {\n",
       "        vertical-align: top;\n",
       "    }\n",
       "\n",
       "    .dataframe thead th {\n",
       "        text-align: right;\n",
       "    }\n",
       "</style>\n",
       "<table border=\"1\" class=\"dataframe\">\n",
       "  <thead>\n",
       "    <tr style=\"text-align: right;\">\n",
       "      <th></th>\n",
       "      <th>BTC-USD</th>\n",
       "    </tr>\n",
       "  </thead>\n",
       "  <tbody>\n",
       "    <tr>\n",
       "      <th>count</th>\n",
       "      <td>4713.000000</td>\n",
       "    </tr>\n",
       "    <tr>\n",
       "      <th>mean</th>\n",
       "      <td>15669.225355</td>\n",
       "    </tr>\n",
       "    <tr>\n",
       "      <th>std</th>\n",
       "      <td>21243.568499</td>\n",
       "    </tr>\n",
       "    <tr>\n",
       "      <th>min</th>\n",
       "      <td>4.200000</td>\n",
       "    </tr>\n",
       "    <tr>\n",
       "      <th>25%</th>\n",
       "      <td>422.400000</td>\n",
       "    </tr>\n",
       "    <tr>\n",
       "      <th>50%</th>\n",
       "      <td>6490.100000</td>\n",
       "    </tr>\n",
       "    <tr>\n",
       "      <th>75%</th>\n",
       "      <td>25870.000000</td>\n",
       "    </tr>\n",
       "    <tr>\n",
       "      <th>max</th>\n",
       "      <td>105990.000000</td>\n",
       "    </tr>\n",
       "  </tbody>\n",
       "</table>\n",
       "</div>"
      ],
      "text/plain": [
       "             BTC-USD\n",
       "count    4713.000000\n",
       "mean    15669.225355\n",
       "std     21243.568499\n",
       "min         4.200000\n",
       "25%       422.400000\n",
       "50%      6490.100000\n",
       "75%     25870.000000\n",
       "max    105990.000000"
      ]
     },
     "execution_count": 29,
     "metadata": {},
     "output_type": "execute_result"
    }
   ],
   "source": [
    "data_btc_usd.info()\n",
    "data_btc_usd.describe()"
   ]
  },
  {
   "cell_type": "markdown",
   "id": "4e7ef99c",
   "metadata": {},
   "source": [
    "## ⚖️ Step 3: Normalize the Data\n",
    "\n",
    "To improve LSTM performance, we normalize prices using MinMaxScaler in the [0, 1] range."
   ]
  },
  {
   "cell_type": "code",
   "execution_count": 30,
   "id": "ba848771",
   "metadata": {},
   "outputs": [
    {
     "name": "stdout",
     "output_type": "stream",
     "text": [
      "[[1.79269298e-05]\n",
      " [1.69834072e-05]\n",
      " [1.60398846e-05]\n",
      " [1.41528393e-05]\n",
      " [1.13222715e-05]]\n"
     ]
    }
   ],
   "source": [
    "scaler = MinMaxScaler(feature_range=(0, 1))\n",
    "data_scaled = scaler.fit_transform(data_btc_usd['BTC-USD'].values.reshape(-1, 1))\n",
    "print(data_scaled[:5])"
   ]
  },
  {
   "cell_type": "markdown",
   "id": "e18d70c5",
   "metadata": {},
   "source": [
    "## ✂️ Step 4: Train-Test Split\n",
    "\n",
    "We divide the data into 80% training and 20% testing to evaluate performance on unseen data."
   ]
  },
  {
   "cell_type": "code",
   "execution_count": 31,
   "id": "f719aa94",
   "metadata": {},
   "outputs": [
    {
     "name": "stdout",
     "output_type": "stream",
     "text": [
      "Taille des données d'entraînement : 3770\n",
      "Taille des données de test : 943\n"
     ]
    }
   ],
   "source": [
    "train_size = int(len(data_scaled) * 0.80)\n",
    "train_data, test_data = data_scaled[:train_size], data_scaled[train_size:]\n",
    "\n",
    "print(f\"Taille des données d'entraînement : {len(train_data)}\")\n",
    "print(f\"Taille des données de test : {len(test_data)}\")"
   ]
  },
  {
   "cell_type": "markdown",
   "id": "10a955dc",
   "metadata": {},
   "source": [
    "## 🔁 Step 5: Create Input Sequences\n",
    "\n",
    "We use a sliding window technique to generate input/output pairs for the LSTM model.  \n",
    "Here, we use `look_back = 1`, meaning the model will use the current value to predict the next one."
   ]
  },
  {
   "cell_type": "code",
   "execution_count": 32,
   "id": "8a89c05c",
   "metadata": {},
   "outputs": [],
   "source": [
    "def get_data(data, look_back):\n",
    "    datax, datay = [], []\n",
    "    for i in range(len(data) - look_back - 1):\n",
    "        datax.append(data[i:(i + look_back), 0])\n",
    "        datay.append(data[i + look_back, 0])\n",
    "    return np.array(datax), np.array(datay)"
   ]
  },
  {
   "cell_type": "code",
   "execution_count": 33,
   "id": "945046ca",
   "metadata": {},
   "outputs": [],
   "source": [
    "look_back = 1\n",
    "x_train, y_train = get_data(train_data, look_back)\n",
    "x_test, y_test = get_data(test_data, look_back)"
   ]
  },
  {
   "cell_type": "markdown",
   "id": "28562c58",
   "metadata": {},
   "source": [
    "## 🔄 Step 6: Reshape Data\n",
    "\n",
    "We reshape the data to match LSTM’s expected input format: `(samples, time_steps, features)`."
   ]
  },
  {
   "cell_type": "code",
   "execution_count": 34,
   "id": "728b9650",
   "metadata": {},
   "outputs": [],
   "source": [
    "x_train = x_train.reshape(x_train.shape[0], x_train.shape[1], 1)\n",
    "x_test = x_test.reshape(x_test.shape[0], x_test.shape[1], 1)"
   ]
  },
  {
   "cell_type": "markdown",
   "id": "89a3cab2",
   "metadata": {},
   "source": [
    "## 🧠 Step 7: Build the LSTM Model\n",
    "\n",
    "We build a simple yet powerful LSTM model with:\n",
    "- 100 units\n",
    "- Sigmoid activation\n",
    "- Dropout for regularization"
   ]
  },
  {
   "cell_type": "code",
   "execution_count": 35,
   "id": "10790215",
   "metadata": {},
   "outputs": [
    {
     "data": {
      "text/html": [
       "<pre style=\"white-space:pre;overflow-x:auto;line-height:normal;font-family:Menlo,'DejaVu Sans Mono',consolas,'Courier New',monospace\"><span style=\"font-weight: bold\">Model: \"sequential_2\"</span>\n",
       "</pre>\n"
      ],
      "text/plain": [
       "\u001B[1mModel: \"sequential_2\"\u001B[0m\n"
      ]
     },
     "metadata": {},
     "output_type": "display_data"
    },
    {
     "data": {
      "text/html": [
       "<pre style=\"white-space:pre;overflow-x:auto;line-height:normal;font-family:Menlo,'DejaVu Sans Mono',consolas,'Courier New',monospace\">┏━━━━━━━━━━━━━━━━━━━━━━━━━━━━━━━━━┳━━━━━━━━━━━━━━━━━━━━━━━━┳━━━━━━━━━━━━━━━┓\n",
       "┃<span style=\"font-weight: bold\"> Layer (type)                    </span>┃<span style=\"font-weight: bold\"> Output Shape           </span>┃<span style=\"font-weight: bold\">       Param # </span>┃\n",
       "┡━━━━━━━━━━━━━━━━━━━━━━━━━━━━━━━━━╇━━━━━━━━━━━━━━━━━━━━━━━━╇━━━━━━━━━━━━━━━┩\n",
       "│ lstm_2 (<span style=\"color: #0087ff; text-decoration-color: #0087ff\">LSTM</span>)                   │ (<span style=\"color: #00d7ff; text-decoration-color: #00d7ff\">None</span>, <span style=\"color: #00af00; text-decoration-color: #00af00\">100</span>)            │        <span style=\"color: #00af00; text-decoration-color: #00af00\">40,800</span> │\n",
       "├─────────────────────────────────┼────────────────────────┼───────────────┤\n",
       "│ dense_2 (<span style=\"color: #0087ff; text-decoration-color: #0087ff\">Dense</span>)                 │ (<span style=\"color: #00d7ff; text-decoration-color: #00d7ff\">None</span>, <span style=\"color: #00af00; text-decoration-color: #00af00\">1</span>)              │           <span style=\"color: #00af00; text-decoration-color: #00af00\">101</span> │\n",
       "├─────────────────────────────────┼────────────────────────┼───────────────┤\n",
       "│ dropout_2 (<span style=\"color: #0087ff; text-decoration-color: #0087ff\">Dropout</span>)             │ (<span style=\"color: #00d7ff; text-decoration-color: #00d7ff\">None</span>, <span style=\"color: #00af00; text-decoration-color: #00af00\">1</span>)              │             <span style=\"color: #00af00; text-decoration-color: #00af00\">0</span> │\n",
       "└─────────────────────────────────┴────────────────────────┴───────────────┘\n",
       "</pre>\n"
      ],
      "text/plain": [
       "┏━━━━━━━━━━━━━━━━━━━━━━━━━━━━━━━━━┳━━━━━━━━━━━━━━━━━━━━━━━━┳━━━━━━━━━━━━━━━┓\n",
       "┃\u001B[1m \u001B[0m\u001B[1mLayer (type)                   \u001B[0m\u001B[1m \u001B[0m┃\u001B[1m \u001B[0m\u001B[1mOutput Shape          \u001B[0m\u001B[1m \u001B[0m┃\u001B[1m \u001B[0m\u001B[1m      Param #\u001B[0m\u001B[1m \u001B[0m┃\n",
       "┡━━━━━━━━━━━━━━━━━━━━━━━━━━━━━━━━━╇━━━━━━━━━━━━━━━━━━━━━━━━╇━━━━━━━━━━━━━━━┩\n",
       "│ lstm_2 (\u001B[38;5;33mLSTM\u001B[0m)                   │ (\u001B[38;5;45mNone\u001B[0m, \u001B[38;5;34m100\u001B[0m)            │        \u001B[38;5;34m40,800\u001B[0m │\n",
       "├─────────────────────────────────┼────────────────────────┼───────────────┤\n",
       "│ dense_2 (\u001B[38;5;33mDense\u001B[0m)                 │ (\u001B[38;5;45mNone\u001B[0m, \u001B[38;5;34m1\u001B[0m)              │           \u001B[38;5;34m101\u001B[0m │\n",
       "├─────────────────────────────────┼────────────────────────┼───────────────┤\n",
       "│ dropout_2 (\u001B[38;5;33mDropout\u001B[0m)             │ (\u001B[38;5;45mNone\u001B[0m, \u001B[38;5;34m1\u001B[0m)              │             \u001B[38;5;34m0\u001B[0m │\n",
       "└─────────────────────────────────┴────────────────────────┴───────────────┘\n"
      ]
     },
     "metadata": {},
     "output_type": "display_data"
    },
    {
     "data": {
      "text/html": [
       "<pre style=\"white-space:pre;overflow-x:auto;line-height:normal;font-family:Menlo,'DejaVu Sans Mono',consolas,'Courier New',monospace\"><span style=\"font-weight: bold\"> Total params: </span><span style=\"color: #00af00; text-decoration-color: #00af00\">40,901</span> (159.77 KB)\n",
       "</pre>\n"
      ],
      "text/plain": [
       "\u001B[1m Total params: \u001B[0m\u001B[38;5;34m40,901\u001B[0m (159.77 KB)\n"
      ]
     },
     "metadata": {},
     "output_type": "display_data"
    },
    {
     "data": {
      "text/html": [
       "<pre style=\"white-space:pre;overflow-x:auto;line-height:normal;font-family:Menlo,'DejaVu Sans Mono',consolas,'Courier New',monospace\"><span style=\"font-weight: bold\"> Trainable params: </span><span style=\"color: #00af00; text-decoration-color: #00af00\">40,901</span> (159.77 KB)\n",
       "</pre>\n"
      ],
      "text/plain": [
       "\u001B[1m Trainable params: \u001B[0m\u001B[38;5;34m40,901\u001B[0m (159.77 KB)\n"
      ]
     },
     "metadata": {},
     "output_type": "display_data"
    },
    {
     "data": {
      "text/html": [
       "<pre style=\"white-space:pre;overflow-x:auto;line-height:normal;font-family:Menlo,'DejaVu Sans Mono',consolas,'Courier New',monospace\"><span style=\"font-weight: bold\"> Non-trainable params: </span><span style=\"color: #00af00; text-decoration-color: #00af00\">0</span> (0.00 B)\n",
       "</pre>\n"
      ],
      "text/plain": [
       "\u001B[1m Non-trainable params: \u001B[0m\u001B[38;5;34m0\u001B[0m (0.00 B)\n"
      ]
     },
     "metadata": {},
     "output_type": "display_data"
    }
   ],
   "source": [
    "n_features = x_train.shape[1]\n",
    "model = Sequential()\n",
    "model.add(LSTM(100, activation='sigmoid', input_shape=(1, 1)))\n",
    "model.add(Dense(n_features))\n",
    "model.add(Dropout(0.002))\n",
    "model.summary()"
   ]
  },
  {
   "cell_type": "markdown",
   "id": "805e71a3",
   "metadata": {},
   "source": [
    "## ⚙️ Step 8: Compile and Train the Model\n",
    "\n",
    "We use the Adam optimizer and Mean Squared Error (MSE) as the loss function.\n",
    "Training uses EarlyStopping to avoid overfitting."
   ]
  },
  {
   "cell_type": "code",
   "execution_count": 36,
   "id": "d2c61ff7",
   "metadata": {},
   "outputs": [
    {
     "name": "stdout",
     "output_type": "stream",
     "text": [
      "Epoch 1/50\n",
      "\u001B[1m59/59\u001B[0m \u001B[32m━━━━━━━━━━━━━━━━━━━━\u001B[0m\u001B[37m\u001B[0m \u001B[1m2s\u001B[0m 10ms/step - loss: 0.0282 - val_loss: 0.1017\n",
      "Epoch 2/50\n",
      "\u001B[1m59/59\u001B[0m \u001B[32m━━━━━━━━━━━━━━━━━━━━\u001B[0m\u001B[37m\u001B[0m \u001B[1m0s\u001B[0m 5ms/step - loss: 0.0144 - val_loss: 0.0771\n",
      "Epoch 3/50\n",
      "\u001B[1m59/59\u001B[0m \u001B[32m━━━━━━━━━━━━━━━━━━━━\u001B[0m\u001B[37m\u001B[0m \u001B[1m0s\u001B[0m 5ms/step - loss: 0.0115 - val_loss: 0.0538\n",
      "Epoch 4/50\n",
      "\u001B[1m59/59\u001B[0m \u001B[32m━━━━━━━━━━━━━━━━━━━━\u001B[0m\u001B[37m\u001B[0m \u001B[1m0s\u001B[0m 5ms/step - loss: 0.0088 - val_loss: 0.0421\n",
      "Epoch 5/50\n",
      "\u001B[1m59/59\u001B[0m \u001B[32m━━━━━━━━━━━━━━━━━━━━\u001B[0m\u001B[37m\u001B[0m \u001B[1m0s\u001B[0m 5ms/step - loss: 0.0054 - val_loss: 0.0268\n",
      "Epoch 6/50\n",
      "\u001B[1m59/59\u001B[0m \u001B[32m━━━━━━━━━━━━━━━━━━━━\u001B[0m\u001B[37m\u001B[0m \u001B[1m0s\u001B[0m 5ms/step - loss: 0.0037 - val_loss: 0.0151\n",
      "Epoch 7/50\n",
      "\u001B[1m59/59\u001B[0m \u001B[32m━━━━━━━━━━━━━━━━━━━━\u001B[0m\u001B[37m\u001B[0m \u001B[1m0s\u001B[0m 5ms/step - loss: 0.0021 - val_loss: 0.0093\n",
      "Epoch 8/50\n",
      "\u001B[1m59/59\u001B[0m \u001B[32m━━━━━━━━━━━━━━━━━━━━\u001B[0m\u001B[37m\u001B[0m \u001B[1m0s\u001B[0m 5ms/step - loss: 0.0015 - val_loss: 0.0053\n",
      "Epoch 9/50\n",
      "\u001B[1m59/59\u001B[0m \u001B[32m━━━━━━━━━━━━━━━━━━━━\u001B[0m\u001B[37m\u001B[0m \u001B[1m0s\u001B[0m 6ms/step - loss: 6.2154e-04 - val_loss: 0.0027\n",
      "Epoch 10/50\n",
      "\u001B[1m59/59\u001B[0m \u001B[32m━━━━━━━━━━━━━━━━━━━━\u001B[0m\u001B[37m\u001B[0m \u001B[1m0s\u001B[0m 7ms/step - loss: 3.9302e-04 - val_loss: 9.6689e-04\n",
      "Epoch 11/50\n",
      "\u001B[1m59/59\u001B[0m \u001B[32m━━━━━━━━━━━━━━━━━━━━\u001B[0m\u001B[37m\u001B[0m \u001B[1m0s\u001B[0m 6ms/step - loss: 1.5451e-04 - val_loss: 5.0297e-04\n",
      "Epoch 12/50\n",
      "\u001B[1m59/59\u001B[0m \u001B[32m━━━━━━━━━━━━━━━━━━━━\u001B[0m\u001B[37m\u001B[0m \u001B[1m0s\u001B[0m 5ms/step - loss: 1.1087e-04 - val_loss: 3.3929e-04\n",
      "Epoch 13/50\n",
      "\u001B[1m59/59\u001B[0m \u001B[32m━━━━━━━━━━━━━━━━━━━━\u001B[0m\u001B[37m\u001B[0m \u001B[1m0s\u001B[0m 5ms/step - loss: 1.1388e-04 - val_loss: 2.1455e-04\n",
      "Epoch 14/50\n",
      "\u001B[1m59/59\u001B[0m \u001B[32m━━━━━━━━━━━━━━━━━━━━\u001B[0m\u001B[37m\u001B[0m \u001B[1m0s\u001B[0m 5ms/step - loss: 2.4631e-04 - val_loss: 1.6401e-04\n",
      "Epoch 15/50\n",
      "\u001B[1m59/59\u001B[0m \u001B[32m━━━━━━━━━━━━━━━━━━━━\u001B[0m\u001B[37m\u001B[0m \u001B[1m0s\u001B[0m 5ms/step - loss: 1.3100e-04 - val_loss: 1.5424e-04\n",
      "Epoch 16/50\n",
      "\u001B[1m59/59\u001B[0m \u001B[32m━━━━━━━━━━━━━━━━━━━━\u001B[0m\u001B[37m\u001B[0m \u001B[1m0s\u001B[0m 5ms/step - loss: 1.3499e-04 - val_loss: 1.4570e-04\n",
      "Epoch 17/50\n",
      "\u001B[1m59/59\u001B[0m \u001B[32m━━━━━━━━━━━━━━━━━━━━\u001B[0m\u001B[37m\u001B[0m \u001B[1m0s\u001B[0m 6ms/step - loss: 1.0566e-04 - val_loss: 1.4964e-04\n",
      "Epoch 18/50\n",
      "\u001B[1m59/59\u001B[0m \u001B[32m━━━━━━━━━━━━━━━━━━━━\u001B[0m\u001B[37m\u001B[0m \u001B[1m0s\u001B[0m 5ms/step - loss: 4.2223e-05 - val_loss: 1.4368e-04\n",
      "Epoch 19/50\n",
      "\u001B[1m59/59\u001B[0m \u001B[32m━━━━━━━━━━━━━━━━━━━━\u001B[0m\u001B[37m\u001B[0m \u001B[1m0s\u001B[0m 5ms/step - loss: 4.9500e-05 - val_loss: 1.4825e-04\n",
      "Epoch 20/50\n",
      "\u001B[1m59/59\u001B[0m \u001B[32m━━━━━━━━━━━━━━━━━━━━\u001B[0m\u001B[37m\u001B[0m \u001B[1m0s\u001B[0m 5ms/step - loss: 1.3286e-04 - val_loss: 1.4417e-04\n",
      "Epoch 21/50\n",
      "\u001B[1m59/59\u001B[0m \u001B[32m━━━━━━━━━━━━━━━━━━━━\u001B[0m\u001B[37m\u001B[0m \u001B[1m0s\u001B[0m 5ms/step - loss: 5.3393e-05 - val_loss: 1.4297e-04\n",
      "Epoch 22/50\n",
      "\u001B[1m59/59\u001B[0m \u001B[32m━━━━━━━━━━━━━━━━━━━━\u001B[0m\u001B[37m\u001B[0m \u001B[1m0s\u001B[0m 5ms/step - loss: 5.7255e-05 - val_loss: 1.4295e-04\n",
      "Epoch 23/50\n",
      "\u001B[1m59/59\u001B[0m \u001B[32m━━━━━━━━━━━━━━━━━━━━\u001B[0m\u001B[37m\u001B[0m \u001B[1m0s\u001B[0m 5ms/step - loss: 1.1472e-04 - val_loss: 1.4770e-04\n",
      "Epoch 24/50\n",
      "\u001B[1m59/59\u001B[0m \u001B[32m━━━━━━━━━━━━━━━━━━━━\u001B[0m\u001B[37m\u001B[0m \u001B[1m0s\u001B[0m 5ms/step - loss: 8.0615e-05 - val_loss: 1.4739e-04\n",
      "Epoch 25/50\n",
      "\u001B[1m59/59\u001B[0m \u001B[32m━━━━━━━━━━━━━━━━━━━━\u001B[0m\u001B[37m\u001B[0m \u001B[1m0s\u001B[0m 5ms/step - loss: 1.1888e-04 - val_loss: 1.4622e-04\n"
     ]
    },
    {
     "data": {
      "text/plain": [
       "<keras.src.callbacks.history.History at 0x2232cf45bd0>"
      ]
     },
     "execution_count": 36,
     "metadata": {},
     "output_type": "execute_result"
    }
   ],
   "source": [
    "model.compile(optimizer=Adam(learning_rate=0.001), loss='mean_squared_error')\n",
    "model.fit(x_train, y_train, epochs=50, batch_size=64, validation_data=(x_test, y_test), callbacks=[EarlyStopping(patience=3)])"
   ]
  },
  {
   "cell_type": "markdown",
   "id": "d56dd157",
   "metadata": {},
   "source": [
    "## 🔍 Step 9: Make Predictions and Invert Scaling\n",
    "\n",
    "After training, we predict BTC/USD prices on the test set and revert normalization to interpret results."
   ]
  },
  {
   "cell_type": "code",
   "execution_count": 37,
   "id": "153b8472",
   "metadata": {},
   "outputs": [
    {
     "name": "stdout",
     "output_type": "stream",
     "text": [
      "\u001B[1m30/30\u001B[0m \u001B[32m━━━━━━━━━━━━━━━━━━━━\u001B[0m\u001B[37m\u001B[0m \u001B[1m0s\u001B[0m 8ms/step\n",
      "[[29672.543]\n",
      " [29819.18 ]\n",
      " [29865.465]\n",
      " [31309.48 ]\n",
      " [31088.049]\n",
      " [30171.34 ]\n",
      " [30053.82 ]\n",
      " [29047.025]\n",
      " [28370.61 ]\n",
      " [26619.545]]\n",
      "[[29877. ]\n",
      " [29923.4]\n",
      " [31371. ]\n",
      " [31149. ]\n",
      " [30230. ]\n",
      " [30112.2]\n",
      " [29103. ]\n",
      " [28425. ]\n",
      " [26670. ]\n",
      " [22487. ]]\n"
     ]
    }
   ],
   "source": [
    "y_pred = model.predict(x_test)\n",
    "y_pred = scaler.inverse_transform(y_pred)\n",
    "\n",
    "#Processing test shape\n",
    "y_test = np.array(y_test).reshape(-1,1)\n",
    "y_test = scaler.inverse_transform(y_test)\n",
    "\n",
    "#y_test = scaler.inverse_transform(y_test.reshape(-1, 1))\n",
    "\n",
    "print(y_pred[:10])\n",
    "print(y_test[:10])"
   ]
  },
  {
   "cell_type": "markdown",
   "id": "400005a8",
   "metadata": {},
   "source": [
    "## 📊 Step 10: Visualize Results\n",
    "\n",
    "We plot actual vs predicted BTC/USD prices to evaluate visually the performance of our LSTM model."
   ]
  },
  {
   "cell_type": "code",
   "execution_count": 38,
   "id": "b2d4639b",
   "metadata": {},
   "outputs": [
    {
     "data": {
      "image/png": "[encoded data removed]",
      "text/plain": [
       "<Figure size 1200x600 with 1 Axes>"
      ]
     },
     "metadata": {},
     "output_type": "display_data"
    }
   ],
   "source": [
    "plt.figure(figsize=(12, 6))\n",
    "plt.plot(data_btc_usd.index[-len(y_test):], y_test, label=\"Actual\", color='g')\n",
    "plt.plot(data_btc_usd.index[-len(y_test):], y_pred, label=\"Predicted\", color='r')\n",
    "plt.title(\"Bitcoin Price Prediction with LSTM\")\n",
    "plt.xlabel(\"Date\")\n",
    "plt.ylabel(\"BTC-USD Price\")\n",
    "plt.legend()\n",
    "plt.grid()\n",
    "plt.show()"
   ]
  },
  {
   "cell_type": "markdown",
   "id": "5fac0548",
   "metadata": {},
   "source": [
    "## 📐 Step 11: Evaluate Model Performance\n",
    "\n",
    "We compute the following evaluation metrics:\n",
    "- MAE (Mean Absolute Error)\n",
    "- MSE (Mean Squared Error)\n",
    "- RMSE (Root Mean Squared Error)\n",
    "- MAPE (Mean Absolute Percentage Error)\n",
    "- Accuracy = 100 - MAPE"
   ]
  },
  {
   "cell_type": "code",
   "execution_count": 39,
   "id": "cf025921",
   "metadata": {},
   "outputs": [
    {
     "name": "stdout",
     "output_type": "stream",
     "text": [
      "Mean Absolute Error (MAE): 789.1641\n",
      "Mean Squared Error (MSE): 1642501.1442\n",
      "Root Mean Squared Error (RMSE): 1281.6010\n",
      "Mean Absolute Percentage Error (MAPE): 1.85%\n",
      "Accuracy: 98.15%\n"
     ]
    }
   ],
   "source": [
    "mae = mean_absolute_error(y_test, y_pred)\n",
    "mse = mean_squared_error(y_test, y_pred)\n",
    "rmse = np.sqrt(mse)\n",
    "mape = np.mean(np.abs((y_test - y_pred) / y_test)) * 100\n",
    "accuracy = 100 - mape\n",
    "\n",
    "print(f'Mean Absolute Error (MAE): {mae:.4f}')\n",
    "print(f'Mean Squared Error (MSE): {mse:.4f}')\n",
    "print(f'Root Mean Squared Error (RMSE): {rmse:.4f}')\n",
    "print(f'Mean Absolute Percentage Error (MAPE): {mape:.2f}%')\n",
    "print(f'Accuracy: {accuracy:.2f}%')\n"
   ]
  },
  {
   "cell_type": "code",
   "execution_count": null,
   "id": "c26355a1",
   "metadata": {},
   "outputs": [],
   "source": []
  }
 ],
 "metadata": {
  "kernelspec": {
   "display_name": "Python 3",
   "language": "python",
   "name": "python3"
  },
  "language_info": {
   "codemirror_mode": {
    "name": "ipython",
    "version": 3
   },
   "file_extension": ".py",
   "mimetype": "text/x-python",
   "name": "python",
   "nbconvert_exporter": "python",
   "pygments_lexer": "ipython3",
   "version": "3.11.9"
  }
 },
 "nbformat": 4,
 "nbformat_minor": 5
}
